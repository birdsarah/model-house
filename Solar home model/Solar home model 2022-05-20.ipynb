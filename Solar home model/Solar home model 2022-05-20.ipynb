{
 "cells": [
  {
   "cell_type": "code",
   "execution_count": null,
   "id": "8304be29-29c3-4e7e-8086-185523fdf361",
   "metadata": {},
   "outputs": [],
   "source": [
    "import pandas as pd\n",
    "from datetime import datetime"
   ]
  },
  {
   "cell_type": "code",
   "execution_count": null,
   "id": "b6ae8aab-5355-495f-870d-743331416cc4",
   "metadata": {},
   "outputs": [],
   "source": [
    "housing_data = '/Users/masoninman/Dropbox/housing/'"
   ]
  },
  {
   "cell_type": "code",
   "execution_count": null,
   "id": "aeaa9f65-31ad-4887-a517-0e1ab09d195c",
   "metadata": {},
   "outputs": [],
   "source": [
    "# PVWatts parameters (determines file that is read)\n",
    "tilt = 30\n",
    "azimuth = 210"
   ]
  },
  {
   "cell_type": "markdown",
   "id": "a3c0a387-af9b-4db2-90d6-c041a0cf83cc",
   "metadata": {},
   "source": [
    "# PV watts"
   ]
  },
  {
   "cell_type": "code",
   "execution_count": null,
   "id": "158c8274-ef9f-420d-bf75-7e3efc538e10",
   "metadata": {},
   "outputs": [],
   "source": [
    "def read_pvwatts(tilt, azimuth):\n",
    "    # Read NREL generation data (PVWatts) for particular set-up\n",
    "    # For Caswell house, set up with highest monthly average production across the year is:\n",
    "    # tilt 30, azimuth 210\n",
    "\n",
    "    # The data is hourly\n",
    "\n",
    "    pvwatts_file = f'pvwatts_hourly 10 kW az {azimuth} tilt {tilt}.csv'\n",
    "\n",
    "    pvwatts_header = pd.read_csv(\n",
    "        housing_data + 'NREL PVWatts generation/' + \n",
    "        pvwatts_file,\n",
    "        header = 0,\n",
    "        nrows = 13,\n",
    "        names = ['category', 'value'],\n",
    "    )\n",
    "    pvwatts_header = pvwatts_header.set_index('category')['value']\n",
    "    \n",
    "    # TEST: check that tilt & azimuth are as expected\n",
    "    if int(pvwatts_header.at['Array Tilt (deg):']) != tilt:\n",
    "        print(\"Error!\")\n",
    "    if int(pvwatts_header.at['Array Azimuth (deg):']) != azimuth:\n",
    "        print(\"Error!\")\n",
    "    # END OF TEST\n",
    "\n",
    "    pvwatts = pd.read_csv(\n",
    "        housing_data + 'NREL PVWatts generation/' + \n",
    "        pvwatts_file,\n",
    "        header = 14,\n",
    "    )\n",
    "\n",
    "    # remove totals\n",
    "    pvwatts = pvwatts[pvwatts['Month']!='Totals']\n",
    "    \n",
    "    # set dtypes\n",
    "    for col in ['Month', 'Day', 'Hour']:\n",
    "        pvwatts[col] = pvwatts[col].astype(int)\n",
    "        \n",
    "    # rename columns\n",
    "    pvwatts = pvwatts.rename(columns={\n",
    "        'DC Array Output (W)': 'DC Array Output (Wh)',\n",
    "        'AC System Output (W)': 'AC System Output (Wh)',\n",
    "    })\n",
    "    \n",
    "    return pvwatts, pvwatts_header"
   ]
  },
  {
   "cell_type": "code",
   "execution_count": null,
   "id": "18527658-0e1a-4ddf-98e9-fe0094834d16",
   "metadata": {},
   "outputs": [],
   "source": [
    "def pvwatts_set_datetime_index(pvwatts):\n",
    "    datetime = '2018-' \n",
    "    datetime += pvwatts['Month'].astype(str).str.zfill(2) + '-'\n",
    "    datetime += pvwatts['Day'].astype(str).str.zfill(2) + ' '\n",
    "    datetime += pvwatts['Hour'].astype(str).str.zfill(2) + ':00:00'\n",
    "    datetime = pd.to_datetime(datetime)\n",
    "    pvwatts['Datetime'] = datetime\n",
    "    pvwatts = pvwatts.set_index('Datetime')\n",
    "    \n",
    "    return pvwatts"
   ]
  },
  {
   "cell_type": "code",
   "execution_count": null,
   "id": "e78e89c6-da4b-4740-be5c-c0f64dc6d04c",
   "metadata": {},
   "outputs": [],
   "source": [
    "def scale_pvwatts(pvwatts, pv_kwh):\n",
    "    # default size is 10 kWh\n",
    "    scaling_factor = pv_kwh / 10\n",
    "    # print(f\"scaling_factor: {scaling_factor}\")\n",
    "    \n",
    "    for col in ['DC Array Output (Wh)', 'AC System Output (Wh)']:\n",
    "        pvwatts[col] = pvwatts[col] * scaling_factor\n",
    "    \n",
    "    return pvwatts"
   ]
  },
  {
   "cell_type": "code",
   "execution_count": null,
   "id": "77c6c5d1-8e49-46c4-9294-4b01e9e5deac",
   "metadata": {},
   "outputs": [],
   "source": [
    "pvwatts, pvwatts_header = read_pvwatts(tilt, azimuth)\n",
    "pvwatts = pvwatts_set_datetime_index(pvwatts)"
   ]
  },
  {
   "cell_type": "markdown",
   "id": "b2ebea18-8803-4da1-b2c1-28fb0fa47821",
   "metadata": {},
   "source": [
    "# ResStock"
   ]
  },
  {
   "cell_type": "code",
   "execution_count": null,
   "id": "55887347-d412-4dac-b7e8-b16de5158c48",
   "metadata": {},
   "outputs": [],
   "source": [
    "# # calculate inverter loss\n",
    "# # (this this simply assumed in the model? the parameters at the top say 'invert efficiency' = 96\n",
    "# totals_index = pvwatts[pvwatts['Month']=='Totals'].index[0]\n",
    "# dc = pvwatts.at[totals_index, 'DC Array Output (W)']\n",
    "# ac = pvwatts.at[totals_index, 'AC System Output (W)']\n",
    "# inverter_loss = (dc - ac) / dc\n",
    "# inverter_loss"
   ]
  },
  {
   "cell_type": "code",
   "execution_count": null,
   "id": "9224ed70-38c6-483d-9a15-b06deed96990",
   "metadata": {},
   "outputs": [],
   "source": [
    "def resstock_read():\n",
    "    # Read ResStock data for Travis County\n",
    "    # Note: should the code have an extra zero? g48004530\n",
    "    resstock_path = housing_data + 'NREL ResStock/'\n",
    "    resstock_file = 'g4804530-single-family_detached.csv'\n",
    "    resstock = pd.read_csv(resstock_path + resstock_file)\n",
    "\n",
    "    resstock['timestamp'] = pd.to_datetime(resstock['timestamp'])\n",
    "    resstock = resstock.set_index('timestamp')\n",
    "    \n",
    "    return resstock"
   ]
  },
  {
   "cell_type": "code",
   "execution_count": null,
   "id": "bcbe6b90-84a7-4dab-9276-5cc1a649fdf2",
   "metadata": {},
   "outputs": [],
   "source": [
    "def resstock_downsample_to_hour(resstock):\n",
    "    df = resstock.copy()\n",
    "    cols_to_drop = [\n",
    "        'in.county', 'in.geometry_building_type_recs',\n",
    "        'models_used', 'units_represented'\n",
    "    ]\n",
    "    df = df.drop(cols_to_drop, axis=1)\n",
    "    df = df.resample(rule='H').sum()\n",
    "\n",
    "    resstock_hr = df\n",
    "\n",
    "    # TEST: check total is same after resample:\n",
    "    total_original = resstock['out.site_energy.total.energy_consumption'].sum()\n",
    "    total_resample = resstock_hr['out.site_energy.total.energy_consumption'].sum()\n",
    "    if abs((total_original - total_resample)/total_original) > 1e-6:\n",
    "        print('Error!' + f\"original: {total_original}; resample: {total_resample}\")\n",
    "        \n",
    "    return resstock_hr"
   ]
  },
  {
   "cell_type": "code",
   "execution_count": null,
   "id": "749b891d-b3ba-4d0b-91bc-c78f66fa8094",
   "metadata": {},
   "outputs": [],
   "source": [
    "# calculate difference between generation and consumption\n",
    "# pvwatts: units are W, time steps are h--so the units are actually Wh\n",
    "# website:\n",
    "# for this set up, January generation: AC Energy (kWh) = 1,058\n",
    "# This matches closely, but not exactly, the output that I saved\n",
    "\n",
    "# ======\n",
    "\n",
    "# resstock: \n",
    "# https://resstock.nrel.gov/page/faq\n",
    "# \"All downloaded energy data is in kWh, including all electricity, natural gas, propane, and fuel oil end uses\""
   ]
  },
  {
   "cell_type": "markdown",
   "id": "661ac618-d56d-4dc0-b4bc-40aa01676036",
   "metadata": {},
   "source": [
    "### ResStock floor area info:\n",
    "* Floor area is not currently included in the residential aggregates, but the floor area can be calculated from the metadata.tsv file (example), by adding up the values in the \"floor_area_conditioned_ft_2\" column after filtering down to the building type and geographic region corresponding to the pre-aggregated file.\n",
    "\n",
    "### ResStock:\n",
    "* How can I see the number of buildings, dwelling units, or number of devices associated with an aggregate load profile from the data viewer? While the pre-aggregated files (example) contain a column with the \"floor_area_represented\" for commercial or \"units_represented\" for residential, aggregations generated by the web viewer don’t include the \"floor_area_represented\" or \"units_represented\" information currently."
   ]
  },
  {
   "cell_type": "code",
   "execution_count": null,
   "id": "ff610135-4de1-4497-8eee-e2e6eebd8c61",
   "metadata": {},
   "outputs": [],
   "source": [
    "# I don't know yet how many homes are modeled in ResStock for the area I have\n",
    "# can normalize the data to assume 1000 kWh/mo, or 12000 kWh/y, of electricity\n",
    "# but electricity is only two-thirds of the energy\n",
    "# so really roughly, if we electrify everything, assume 1500 kWh/mo, or 18000 kWh/y, of energy (all electricity)"
   ]
  },
  {
   "cell_type": "code",
   "execution_count": null,
   "id": "06a6f0b5-8791-4279-839d-cfe2d49bca62",
   "metadata": {},
   "outputs": [],
   "source": [
    "# print(f\"Total energy (MWh): {int(resstock_hr['out.site_energy.total.energy_consumption'].sum()/1e3)}\")\n",
    "# print(f\"Total electricity (MWh): {int(resstock_hr['out.electricity.total.energy_consumption'].sum()/1e3)}\")\n",
    "# print(f\"Electricity ratio: {resstock_hr['out.electricity.total.energy_consumption'].sum()/resstock_hr['out.site_energy.total.energy_consumption'].sum()}\")"
   ]
  },
  {
   "cell_type": "code",
   "execution_count": null,
   "id": "49832325-3ee2-4484-8870-13b3bb216783",
   "metadata": {},
   "outputs": [],
   "source": [
    "resstock = resstock_read()"
   ]
  },
  {
   "cell_type": "markdown",
   "id": "6693a1af-861c-4744-87db-580008a9c89e",
   "metadata": {},
   "source": [
    "# Merge PVWatts & ResStock"
   ]
  },
  {
   "cell_type": "code",
   "execution_count": null,
   "id": "ad3e8ba9-599b-4680-977f-142ba2e658af",
   "metadata": {},
   "outputs": [],
   "source": [
    "def create_merged(pvwatts, resstock_hr_norm):\n",
    "    pvwatts_merge = pvwatts.copy()\n",
    "    pvwatts_merge['AC System Output (kWh)'] = pvwatts_merge[['AC System Output (Wh)']] / 1e3\n",
    "    pvwatts_merge = pvwatts_merge.rename(columns={'AC System Output (kWh)': 'PV generation AC (kWh)'})\n",
    "\n",
    "    merged = pd.concat([\n",
    "        resstock_hr_norm,\n",
    "        pvwatts_merge[['PV generation AC (kWh)']],\n",
    "    ], axis=1)\n",
    "\n",
    "    # fill in missing value for PV in 2019-01-01 00:00:00 -- nighttime, so no generation\n",
    "    pvwatts_nan_len = len(merged[merged['PV generation AC (kWh)'].isna()])\n",
    "    if pvwatts_nan_len==1:\n",
    "        merged['PV generation AC (kWh)'] = merged['PV generation AC (kWh)'].fillna(0)\n",
    "    else:\n",
    "        print(\"Error!\" + f\" There was only expected to be 1 nan row, but there were {pvwatts_nan_len} rows\")\n",
    "        \n",
    "    return merged"
   ]
  },
  {
   "cell_type": "code",
   "execution_count": null,
   "id": "26fddd1b-7063-426d-95e7-f4ec831c5e7c",
   "metadata": {},
   "outputs": [],
   "source": [
    "def calculate_shortfall_excess(merged):\n",
    "    diff = merged['PV generation AC (kWh)'] - merged['Total energy consumption (kWh)']\n",
    "\n",
    "    shortfall_pv = -1 * diff[diff <= 0]\n",
    "    shortfall_pv.name = 'PV shortfall kWh'\n",
    "\n",
    "    excess_pv = diff[diff > 0]\n",
    "    excess_pv.name = 'PV excess kWh'\n",
    "\n",
    "    merged = pd.concat([\n",
    "        merged,\n",
    "        shortfall_pv,\n",
    "        excess_pv,\n",
    "    ], axis=1).fillna(0)\n",
    "\n",
    "    merged = merged.reset_index()\n",
    "    \n",
    "    return merged"
   ]
  },
  {
   "cell_type": "code",
   "execution_count": null,
   "id": "2fdb62f4-9a5a-4227-a2ed-d4ee990b3db0",
   "metadata": {},
   "outputs": [],
   "source": [
    "def battery_charge_discharge(merged, battery_capacity_kwh):\n",
    "    # model battery storage\n",
    "    # set a certain capacity of battery\n",
    "    # then step through the time series, to fill the battery when there is excess (up to its limit)\n",
    "    # and to draw down the battery (only to zero)\n",
    "\n",
    "    merged['battery kWh'] = float(0) # initialize\n",
    "\n",
    "    for row in merged.index:\n",
    "        \n",
    "        if row == 0:\n",
    "            battery = float(0)\n",
    "        else:\n",
    "            # get value from previous row\n",
    "            battery = merged.at[row-1, 'battery kWh']\n",
    "\n",
    "        battery_capacity_kwh = float(battery_capacity_kwh)\n",
    "        battery_spare_cap = battery_capacity_kwh - battery\n",
    "\n",
    "        pv_excess = merged.at[row, 'PV excess kWh']\n",
    "        pv_shortfall = merged.at[row, 'PV shortfall kWh']\n",
    "\n",
    "        # charge the battery\n",
    "        # print(f\"pv_excess: {pv_excess} & battery_spare_cap: {battery_spare_cap}\")\n",
    "        charged = min(pv_excess, battery_spare_cap)\n",
    "        merged.at[row, 'charged kWh'] = charged\n",
    "\n",
    "        battery += charged\n",
    "\n",
    "        # sold to grid\n",
    "        sold = pv_excess - charged\n",
    "        \n",
    "\n",
    "        # discharge battery\n",
    "        discharged = min(pv_shortfall, battery)\n",
    "\n",
    "        battery += -1 * discharged\n",
    "        merged.at[row, 'discharged kWh'] = discharged\n",
    "        \n",
    "        # total shortfall\n",
    "        total_consump = merged.at[row, 'Total energy consumption (kWh)']\n",
    "        pv_gen = merged.at[row, 'PV generation AC (kWh)']\n",
    "        total_supply = pv_gen + discharged\n",
    "        \n",
    "        total_shortfall = max(total_consump - total_supply, 0)\n",
    "\n",
    "        # write values for battery at end of time period\n",
    "        merged.at[row, 'battery spare kWh'] = battery_spare_cap\n",
    "        merged.at[row, 'battery kWh'] = battery\n",
    "        \n",
    "        merged.at[row, 'bought kWh'] = total_shortfall       \n",
    "        merged.at[row, 'sold kWh'] = sold\n",
    "\n",
    "    return merged"
   ]
  },
  {
   "cell_type": "markdown",
   "id": "aa02c5a9-f313-44b9-ad3a-20af18e7beb6",
   "metadata": {},
   "source": [
    "# Outputs"
   ]
  },
  {
   "cell_type": "code",
   "execution_count": null,
   "id": "f976c7f9-ceb4-4519-869f-f111bd821ec4",
   "metadata": {},
   "outputs": [],
   "source": [
    "# # batteries are often expressed in terms of number of hours of supply they give you\n",
    "# kWh_per_hour_avg = merged['Total energy consumption (kWh)'].sum() / (365 * 24)\n",
    "# hours_of_battery = 8\n",
    "# print(f\"8-hour battery would then be: {round(kWh_per_hour_avg * hours_of_battery, 1)} kWh\")"
   ]
  },
  {
   "cell_type": "code",
   "execution_count": null,
   "id": "a028a7c1-5b68-4213-9450-a9b995d24eaf",
   "metadata": {},
   "outputs": [],
   "source": [
    "battery_capacity_kwh = 200\n",
    "pv_kwh = 200\n",
    "\n",
    "energy_consumption_per_house = 18000 # kWh"
   ]
  },
  {
   "cell_type": "code",
   "execution_count": null,
   "id": "dc44e2e2-c08f-41f7-b400-39082019cfc2",
   "metadata": {},
   "outputs": [],
   "source": [
    "resstock_hr = resstock_downsample_to_hour(resstock)\n",
    "\n",
    "number_of_houses_guesstimate = int(resstock['out.site_energy.total.energy_consumption'].sum() / energy_consumption_per_house)\n",
    "# print(f\"Guesstimate for number of houses in ResStock area: {number_of_houses_guesstimate}\")\n",
    "\n",
    "resstock_hr_norm = resstock_hr / number_of_houses_guesstimate\n",
    "\n",
    "resstock_hr_norm = resstock_hr_norm[['out.site_energy.total.energy_consumption']].rename(columns={\n",
    "    'out.site_energy.total.energy_consumption': 'Total energy consumption (kWh)',\n",
    "})\n",
    "\n",
    "annual_output_MWh = pvwatts['AC System Output (Wh)'].sum()/1e6\n",
    "round(annual_output_MWh, 1)\n",
    "\n",
    "pvwatts_scaled = scale_pvwatts(pvwatts, pv_kwh)\n",
    "merged = create_merged(pvwatts_scaled, resstock_hr_norm)\n",
    "merged = calculate_shortfall_excess(merged)\n",
    "merged = battery_charge_discharge(merged, battery_capacity_kwh)\n",
    "merged = merged.set_index('index')\n",
    "merged['net bought kWh'] = merged['bought kWh'] - merged['sold kWh']"
   ]
  },
  {
   "cell_type": "code",
   "execution_count": null,
   "id": "b67bd01e-16ff-4d5c-81bd-b56d068f83de",
   "metadata": {},
   "outputs": [],
   "source": [
    "merged_sums = merged[['Total energy consumption (kWh)', 'PV generation AC (kWh)',\n",
    "                      'PV shortfall kWh', 'PV excess kWh', \n",
    "                      'charged kWh', 'discharged kWh', \n",
    "                      'bought kWh', 'sold kWh', 'net bought kWh']].sum()\n",
    "merged_sums"
   ]
  },
  {
   "cell_type": "code",
   "execution_count": null,
   "id": "5641e372-49aa-49e7-b8e8-73f751b8a7db",
   "metadata": {},
   "outputs": [],
   "source": []
  },
  {
   "cell_type": "code",
   "execution_count": null,
   "id": "ab73c4f8-c7c4-44f6-aee3-6a9344478e50",
   "metadata": {},
   "outputs": [],
   "source": []
  },
  {
   "cell_type": "code",
   "execution_count": null,
   "id": "9bdf16f1-08e6-46f7-b642-cbd7814b7797",
   "metadata": {},
   "outputs": [],
   "source": []
  },
  {
   "cell_type": "code",
   "execution_count": null,
   "id": "4f47dc67-b55d-45c8-be1d-23ec0a5ba6d5",
   "metadata": {},
   "outputs": [],
   "source": []
  },
  {
   "cell_type": "code",
   "execution_count": null,
   "id": "00c04bc5-f145-4e86-b635-2d99d707c78c",
   "metadata": {},
   "outputs": [],
   "source": []
  },
  {
   "cell_type": "code",
   "execution_count": null,
   "id": "1baa01c7-435d-4b2a-9c9b-37fa86607be1",
   "metadata": {},
   "outputs": [],
   "source": [
    "# now = datetime.now() # current date and time\n",
    "# save_timestamp = now.strftime(\"%Y-%m-%d %H%M%S\")\n",
    "# merged.to_excel(f'PV home system sim {save_timestamp}.xlsx')"
   ]
  },
  {
   "cell_type": "code",
   "execution_count": null,
   "id": "d26692d9-385f-40b5-8dab-366ff5262f3a",
   "metadata": {},
   "outputs": [],
   "source": [
    "# average capacity of batteries\n",
    "merged['battery kWh'].mean()"
   ]
  },
  {
   "cell_type": "code",
   "execution_count": null,
   "id": "6ff2a945-fe4a-4af9-b0df-d327cc73120c",
   "metadata": {},
   "outputs": [],
   "source": [
    "# share of time that batteries are at max capacity\n",
    "len(merged[merged['battery kWh']==battery_capacity_kwh])/len(merged)"
   ]
  },
  {
   "cell_type": "code",
   "execution_count": null,
   "id": "21826d50-217a-4b78-b073-7d7dc8b17967",
   "metadata": {},
   "outputs": [],
   "source": [
    "# TO DO: add test to check that total charge = total discharge \n",
    "# (can allow some minor discrepancy, to account for any charge remaining at the end of the time period)"
   ]
  },
  {
   "cell_type": "code",
   "execution_count": null,
   "id": "301f56aa-a399-4765-a8a6-a62c52f50ab1",
   "metadata": {},
   "outputs": [],
   "source": [
    "# df = merged.copy()\n",
    "\n",
    "# df['Hour'] = df.index.hour\n",
    "# df['Hour'] = df['Hour'].astype(str)\n",
    "\n",
    "# for row in df.index:\n",
    "#     hour = df.at[row, 'Hour']\n",
    "#     if int(hour) >= 8 and int(hour) < 20:\n",
    "#         df.at[row, 'Hour'] = 'day'\n",
    "#     else:\n",
    "#         df.at[row, 'Hour'] = 'night'\n",
    "        \n",
    "# # df['Hour'].value_counts()\n",
    "# df = df.rename(columns={'Hour': 'day-night'})\n",
    "    \n",
    "# df['Month'] = df.index.month\n",
    "# df.groupby(['Month', 'day-night']).sum().astype(int)"
   ]
  },
  {
   "cell_type": "code",
   "execution_count": null,
   "id": "dd5884f2-1156-40f7-ac39-5f4d258a84a7",
   "metadata": {},
   "outputs": [],
   "source": [
    "net_supply = merged_sums.at['PV generation AC (kWh)'] + merged_sums.at['bought kWh'] - merged_sums.at['sold kWh']\n",
    "total_consump = merged_sums.at['Total energy consumption (kWh)'] \n",
    "\n",
    "total_consump - net_supply"
   ]
  },
  {
   "cell_type": "code",
   "execution_count": null,
   "id": "4cf032c7-d8f2-4cd5-8504-e9b662d2a6e1",
   "metadata": {},
   "outputs": [],
   "source": [
    "# Something seems off, because "
   ]
  },
  {
   "cell_type": "code",
   "execution_count": null,
   "id": "a615db0d-c903-4021-8150-d241600bd413",
   "metadata": {},
   "outputs": [],
   "source": [
    "# Q: how to count the number of cycles?\n",
    "# Or is there a better way of evaluating, it to look at total charge / total discharge"
   ]
  }
 ],
 "metadata": {
  "kernelspec": {
   "display_name": "Python 3 (ipykernel)",
   "language": "python",
   "name": "python3"
  },
  "language_info": {
   "codemirror_mode": {
    "name": "ipython",
    "version": 3
   },
   "file_extension": ".py",
   "mimetype": "text/x-python",
   "name": "python",
   "nbconvert_exporter": "python",
   "pygments_lexer": "ipython3",
   "version": "3.9.7"
  }
 },
 "nbformat": 4,
 "nbformat_minor": 5
}
