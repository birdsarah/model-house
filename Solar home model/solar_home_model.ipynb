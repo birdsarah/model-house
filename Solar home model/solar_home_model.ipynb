{
 "cells": [
  {
   "cell_type": "code",
   "execution_count": 1,
   "id": "e8f24839",
   "metadata": {},
   "outputs": [],
   "source": [
    "from solar_home_model_func import *"
   ]
  },
  {
   "cell_type": "code",
   "execution_count": 2,
   "id": "7ef0c6a2",
   "metadata": {},
   "outputs": [],
   "source": [
    "# Setup\n",
    "resstock = resstock_read()"
   ]
  },
  {
   "cell_type": "code",
   "execution_count": 6,
   "id": "de850af0",
   "metadata": {},
   "outputs": [],
   "source": [
    "battery_capacity = 13.5 # kWh (Tesla Powerwall is 13.5 kWh)\n",
    "pv = 9 # kWh (18kWh LG system ~$40k; 9kWh LG system ~$22k)\n",
    "energy_consumption_per_house = 18000 # kWh\n",
    "tilt = 30 # [20, 30, 45]\n",
    "azimuth = 210 # [120, 210, 300]"
   ]
  },
  {
   "cell_type": "code",
   "execution_count": 7,
   "id": "cc0b9e73",
   "metadata": {},
   "outputs": [],
   "source": [
    "house_model = resstock_hr_norm_guesstimate(resstock, energy_consumption_per_house)\n",
    "pv_model = get_pvwatts(tilt, azimuth, pv)\n",
    "results = build_results(pv_model, house_model, battery_capacity)"
   ]
  },
  {
   "cell_type": "code",
   "execution_count": 8,
   "id": "f4c86fdb",
   "metadata": {},
   "outputs": [
    {
     "data": {
      "text/plain": [
       "Total energy consumption (kWh)    18000.007705\n",
       "PV generation AC (kWh)            13125.122998\n",
       "PV shortfall kWh                  11414.870867\n",
       "PV excess kWh                      6539.986160\n",
       "charged kWh                        4082.923738\n",
       "discharged kWh                     4082.923738\n",
       "bought kWh                         7331.947129\n",
       "sold kWh                           2457.062422\n",
       "net bought kWh                     4874.884707\n",
       "dtype: float64"
      ]
     },
     "execution_count": 8,
     "metadata": {},
     "output_type": "execute_result"
    }
   ],
   "source": [
    "summary = results[['Total energy consumption (kWh)', 'PV generation AC (kWh)',\n",
    "                      'PV shortfall kWh', 'PV excess kWh', \n",
    "                      'charged kWh', 'discharged kWh', \n",
    "                      'bought kWh', 'sold kWh', 'net bought kWh']].sum()\n",
    "summary"
   ]
  },
  {
   "cell_type": "code",
   "execution_count": null,
   "id": "5ba141c1",
   "metadata": {},
   "outputs": [],
   "source": []
  }
 ],
 "metadata": {
  "kernelspec": {
   "display_name": "Python 3 (ipykernel)",
   "language": "python",
   "name": "python3"
  },
  "language_info": {
   "codemirror_mode": {
    "name": "ipython",
    "version": 3
   },
   "file_extension": ".py",
   "mimetype": "text/x-python",
   "name": "python",
   "nbconvert_exporter": "python",
   "pygments_lexer": "ipython3",
   "version": "3.10.4"
  }
 },
 "nbformat": 4,
 "nbformat_minor": 5
}
