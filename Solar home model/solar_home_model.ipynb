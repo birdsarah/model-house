{
 "cells": [
  {
   "cell_type": "code",
   "execution_count": 1,
   "id": "2236da46",
   "metadata": {},
   "outputs": [],
   "source": [
    "from solar_home_model_func import *\n",
    "resstock = resstock_read()"
   ]
  },
  {
   "cell_type": "code",
   "execution_count": 2,
   "id": "ff518afd",
   "metadata": {},
   "outputs": [],
   "source": [
    "def make_summary(tilt, azimuth, battery_capacity, pv, energy_consumption_per_house):\n",
    "    house_model = resstock_hr_norm_guesstimate(resstock, energy_consumption_per_house)\n",
    "    pv_model = get_pvwatts(tilt, azimuth, pv)\n",
    "    results = build_results(pv_model, house_model, battery_capacity)\n",
    "    summary = results[['Total energy consumption (kWh)', 'PV generation AC (kWh)',\n",
    "                          'PV shortfall kWh', 'PV excess kWh', \n",
    "                          'charged kWh', 'discharged kWh', \n",
    "                          'bought kWh', 'sold kWh', 'net bought kWh']].sum()\n",
    "    return summary.to_frame().reset_index().rename(columns={'index': 'quantity', 0: 'value'})"
   ]
  },
  {
   "cell_type": "code",
   "execution_count": 3,
   "id": "db4bc8e2",
   "metadata": {},
   "outputs": [
    {
     "data": {
      "text/html": [
       "<div>\n",
       "<style scoped>\n",
       "    .dataframe tbody tr th:only-of-type {\n",
       "        vertical-align: middle;\n",
       "    }\n",
       "\n",
       "    .dataframe tbody tr th {\n",
       "        vertical-align: top;\n",
       "    }\n",
       "\n",
       "    .dataframe thead th {\n",
       "        text-align: right;\n",
       "    }\n",
       "</style>\n",
       "<table border=\"1\" class=\"dataframe\">\n",
       "  <thead>\n",
       "    <tr style=\"text-align: right;\">\n",
       "      <th></th>\n",
       "      <th>quantity</th>\n",
       "      <th>value</th>\n",
       "    </tr>\n",
       "  </thead>\n",
       "  <tbody>\n",
       "    <tr>\n",
       "      <th>0</th>\n",
       "      <td>Total energy consumption (kWh)</td>\n",
       "      <td>18000.007705</td>\n",
       "    </tr>\n",
       "    <tr>\n",
       "      <th>1</th>\n",
       "      <td>PV generation AC (kWh)</td>\n",
       "      <td>13125.122998</td>\n",
       "    </tr>\n",
       "    <tr>\n",
       "      <th>2</th>\n",
       "      <td>PV shortfall kWh</td>\n",
       "      <td>11414.870867</td>\n",
       "    </tr>\n",
       "    <tr>\n",
       "      <th>3</th>\n",
       "      <td>PV excess kWh</td>\n",
       "      <td>6539.986160</td>\n",
       "    </tr>\n",
       "    <tr>\n",
       "      <th>4</th>\n",
       "      <td>charged kWh</td>\n",
       "      <td>4082.923738</td>\n",
       "    </tr>\n",
       "    <tr>\n",
       "      <th>5</th>\n",
       "      <td>discharged kWh</td>\n",
       "      <td>4082.923738</td>\n",
       "    </tr>\n",
       "    <tr>\n",
       "      <th>6</th>\n",
       "      <td>bought kWh</td>\n",
       "      <td>7331.947129</td>\n",
       "    </tr>\n",
       "    <tr>\n",
       "      <th>7</th>\n",
       "      <td>sold kWh</td>\n",
       "      <td>2457.062422</td>\n",
       "    </tr>\n",
       "    <tr>\n",
       "      <th>8</th>\n",
       "      <td>net bought kWh</td>\n",
       "      <td>4874.884707</td>\n",
       "    </tr>\n",
       "  </tbody>\n",
       "</table>\n",
       "</div>"
      ],
      "text/plain": [
       "                         quantity         value\n",
       "0  Total energy consumption (kWh)  18000.007705\n",
       "1          PV generation AC (kWh)  13125.122998\n",
       "2                PV shortfall kWh  11414.870867\n",
       "3                   PV excess kWh   6539.986160\n",
       "4                     charged kWh   4082.923738\n",
       "5                  discharged kWh   4082.923738\n",
       "6                      bought kWh   7331.947129\n",
       "7                        sold kWh   2457.062422\n",
       "8                  net bought kWh   4874.884707"
      ]
     },
     "execution_count": 3,
     "metadata": {},
     "output_type": "execute_result"
    }
   ],
   "source": [
    "battery_capacity = 13.5 # kWh (Tesla Powerwall is 13.5 kWh)\n",
    "pv = 9 # kWh (18kWh LG system ~$40k; 9kWh LG system ~$22k)\n",
    "energy_consumption_per_house = 18000 # kWh\n",
    "tilt = 30 # [20, 30, 45]\n",
    "azimuth = 210 # [120, 210, 300]\n",
    "\n",
    "summary = make_summary(tilt, azimuth, battery_capacity, pv, energy_consumption_per_house)\n",
    "summary"
   ]
  }
 ],
 "metadata": {
  "kernelspec": {
   "display_name": "Python 3 (ipykernel)",
   "language": "python",
   "name": "python3"
  },
  "language_info": {
   "codemirror_mode": {
    "name": "ipython",
    "version": 3
   },
   "file_extension": ".py",
   "mimetype": "text/x-python",
   "name": "python",
   "nbconvert_exporter": "python",
   "pygments_lexer": "ipython3",
   "version": "3.10.4"
  }
 },
 "nbformat": 4,
 "nbformat_minor": 5
}
